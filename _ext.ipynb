{
  "cells": [
    {
      "cell_type": "markdown",
      "metadata": {
        "id": "view-in-github",
        "colab_type": "text"
      },
      "source": [
        "<a href=\"https://colab.research.google.com/github/SteveParadox/Organizer-Automator/blob/main/_ext.ipynb\" target=\"_parent\"><img src=\"https://colab.research.google.com/assets/colab-badge.svg\" alt=\"Open In Colab\"/></a>"
      ]
    },
    {
      "cell_type": "code",
      "execution_count": 42,
      "metadata": {
        "id": "VETHHRdR4zfv"
      },
      "outputs": [],
      "source": [
        "import requests\n",
        "from bs4 import BeautifulSoup\n",
        "import random\n",
        "from sklearn.model_selection import train_test_split\n",
        "from sklearn.preprocessing import LabelEncoder\n",
        "from sklearn.ensemble import RandomForestClassifier\n",
        "import pandas as pd\n",
        "from sklearn.metrics import accuracy_score, precision_score, recall_score, f1_score\n",
        "from sklearn.metrics import log_loss\n",
        "import numpy as np"
      ]
    },
    {
      "cell_type": "code",
      "execution_count": 43,
      "metadata": {
        "colab": {
          "base_uri": "https://localhost:8080/"
        },
        "id": "nx5_DZTn5mDn",
        "outputId": "c1a36924-d079-4ba2-a683-512a4fdd24ff"
      },
      "outputs": [
        {
          "output_type": "stream",
          "name": "stdout",
          "text": [
            "74\n"
          ]
        }
      ],
      "source": [
        "urls = [\n",
        "    \"https://www.goal.com/en-us/premier-league/table/6wubmo7di3kdpflluf6s8c7vs\",\n",
        "    \"https://www.goal.com/en-us/ligue-1/table/57nu0wygurzkp6fuy5hhrtaa2\",\n",
        "    \"https://www.goal.com/en-us/liga-profesional-argentina/table/581t4mywybx21wcpmpykhyzr3\",\n",
        "    \"https://www.goal.com/en-us/a-league-men/table/xwnjb1az11zffwty3m6vn8y6\",\n",
        "    \"https://www.goal.com/en-us/first-division-a/table/4zwgbb66rif2spcoeeol2motx\",\n",
        "    \"https://www.goal.com/en-us/premijer-liga/table/4yngyfinzd6bb1k7anqtqs0wt\",\n",
        "    \"https://www.goal.com/en-us/serie-a/table/scf9p4y91yjvqvg5jndxzhxj\",\n",
        "    \"https://www.goal.com/en-us/primera-divisi%C3%B3n/table/2y8bntiif3a9y6gtmauv30gt\",\n",
        "    \"https://www.goal.com/en-us/primera-b/table/bly7ema5au6j40i0grhl0pnub\",\n",
        "    \"https://www.goal.com/en-us/csl/table/82jkgccg7phfjpd0mltdl3pat\",\n",
        "    \"https://www.goal.com/en-us/primera-a/table/2ty8ihceabty8yddmu31iuuej\",\n",
        "    \"https://www.goal.com/en-us/primera-b/table/by5nibd18nkt40t0j8a0j5yzx\",\n",
        "    \"https://www.goal.com/en-us/hnl/table/1b70m6qtxrp75b4vtk8hxh8c3\",\n",
        "    \"https://www.goal.com/en-us/czech-liga/table/bu1l7ckihyr0errxw61p0m05\",\n",
        "    \"https://www.goal.com/en-us/superliga/table/29actv1ohj8r10kd9hu0jnb0n\",\n",
        "    \"https://www.goal.com/en-us/liga-pro/table/6lwpjhktjhl9g7x2w7njmzva6\",\n",
        "    \"https://www.goal.com/en-us/premier-league/table/8k1xcsyvxapl4jlsluh3eomre\",\n",
        "    \"https://www.goal.com/en-us/championship/table/7ntvbsyq31jnzoqoa8850b9b8\",\n",
        "    \"https://www.goal.com/en-us/league-one/table/3frp1zxrqulrlrnk503n6l4l\",\n",
        "    \"https://www.goal.com/en-us/premier-league/table/2kwbbcootiqqgmrzs6o5inle5\",\n",
        "    \"https://www.goal.com/en-us/league-two/table/bgen5kjer2ytfp7lo9949t72g\",\n",
        "    \"https://www.goal.com/en-us/premier-league-2-division-one/table/75434tz9rc14xkkvudex742ui\",\n",
        "    \"https://www.goal.com/en-us/premier-league-2-division-two/table/a0zpsx4vvgvn2kpxzg1bcciui\",\n",
        "    \"https://www.goal.com/en-us/ligue-1/table/dm5ka0os1e3dxcp3vh05kmp33\",\n",
        "    \"https://www.goal.com/en-us/ligue-2/table/4w7x0s5gfs5abasphlha5de8k\",\n",
        "    \"https://www.goal.com/en-us/bundesliga/table/6by3h89i2eykc341oz7lv1ddd\",\n",
        "    \"https://www.goal.com/en-us/2-bundesliga/table/722fdbecxzcq9788l6jqclzlw\",\n",
        "    \"https://www.goal.com/en-us/premier-league/table/4jg7he1n3rb5dniq6hf49xorq\",\n",
        "    \"https://www.goal.com/en-us/super-league-1/table/c0r21rtokgnbtc0o2rldjmkxu\",\n",
        "    \"https://www.goal.com/en-us/premier-league/table/4rls982p5uzil6x30mhyhv9f3\",\n",
        "    \"https://www.goal.com/en-us/nb-i/table/47s2kt0e8m444ftqvsrqa3bvq\",\n",
        "    \"https://www.goal.com/en-us/nb-ii/table/beqqnubkv05mamuwvimeum015\",\n",
        "    \"https://www.goal.com/en-us/indian-super-league/table/3oa9e03e7w9nr8kqwqc3tlqz9\",\n",
        "    \"https://www.goal.com/en-us/i-league/table/4pohvulrkgzx38eoqse6b5cdg\",\n",
        "    \"https://www.goal.com/en-us/isc-a/table/253foz8zjbecgiyhz4cgytxih\",\n",
        "    \"https://www.goal.com/en-us/liga-1/table/117yqo02rs8dykkxpm274w3bd\",\n",
        "    \"https://www.goal.com/en-us/serie-a/table/1r097lpxe0xn03ihb7wi98kao\",\n",
        "    \"https://www.goal.com/en-us/fkf-premier-league/table/7wssxdqi4xihseeam8grqa2b8\",\n",
        "    \"https://www.goal.com/en-us/j2-league/table/5z8v4mj6cjs9ex6hdrpourjzh\",\n",
        "    \"https://www.goal.com/en-us/serie-b/table/8ey0ww2zsosdmwr8ehsorh6t7\",\n",
        "    \"https://www.goal.com/en-us/serie-c/table/1zp1du9n4rj36p1ss9zbxtqfb\",\n",
        "    \"https://www.goal.com/en-us/j1-league/table/8o5tv5viv4hy1qg9jp94k7ayb\",\n",
        "    \"https://www.goal.com/en-us/super-league/table/eg6s9f1jj7jr6stmbosn0g6c8\",\n",
        "    \"https://www.goal.com/en-us/liga-mx/table/2hsidwomhjsaaytdy9u5niyi4\",\n",
        "    \"https://www.goal.com/en-us/botola-pro/table/1eruend45vd20g9hbrpiggs5u\",\n",
        "    \"https://www.goal.com/en-us/eerste-divisie/table/1gwajyt0pk2jm5fx5mu36v114\",\n",
        "    \"https://www.goal.com/en-us/eredivisie/table/akmkihra9ruad09ljapsm84b3\",\n",
        "    \"https://www.goal.com/en-us/eliteserien/table/9ynnnx1qmkizq1o3qr3v0nsuk\",\n",
        "    \"https://www.goal.com/en-us/division-profesional/table/5y0z0l2epprzbscvzsgldw8vu\",\n",
        "    \"https://www.goal.com/en-us/primera-divisi%C3%B3n/table/a9vrdkelbgif0gtu3wxsr75xo\",\n",
        "    \"https://www.goal.com/en-us/ekstraklasa/table/7hl0svs2hg225i2zud0g3xzp2\",\n",
        "    \"https://www.goal.com/en-us/primeira-liga/table/8yi6ejjd1zudcqtbn07haahg6\",\n",
        "    \"https://www.goal.com/en-us/stars-league/table/xaouuwuk8qyhv1libkeexwjh\",\n",
        "    \"https://www.goal.com/en-us/liga-i/table/89ovpy1rarewwzqvi30bfdr8b\",\n",
        "    \"https://www.goal.com/en-us/saudi-league/table/ea0h6cf3bhl698hkxhpulh2zz\",\n",
        "    \"https://www.goal.com/en-us/championship/table/8t2o4huu2e48ij23dxnl9w5qx\",\n",
        "    \"https://www.goal.com/en-us/league-one/table/6sxm2iln2w45ux498pty9miw8\",\n",
        "    \"https://www.goal.com/en-us/league-two/table/6321dlqv4ziuwqte4xpohijtw\",\n",
        "    \"https://www.goal.com/en-us/premiership/table/e21cf135btr8t3upw0vl6n6x0\",\n",
        "    \"https://www.goal.com/en-us/psl/table/yv73ms6v1995b5wny16jcfi3\",\n",
        "    \"https://www.goal.com/en-us/primera-divisi%C3%B3n/table/34pl8szyvrbwcmfkuocjm3r6t\",\n",
        "    \"https://www.goal.com/en-us/segunda-divisi%C3%B3n/table/3is4bkgf3loxv9qfg3hm8zfqb\",\n",
        "    \"https://www.goal.com/en-us/sudani-premier-league/table/2c01jrik7ggtta321pstz8tm4\",\n",
        "    \"https://www.goal.com/en-us/allsvenskan/table/b60nisd3qn427jm0hrg9kvmab\",\n",
        "    \"https://www.goal.com/en-us/super-league/table/e0lck99w8meo9qoalfrxgo33o\",\n",
        "    \"https://www.goal.com/en-us/ligi-kuu-bara/table/9z5643nd06afqu01ea2wt8y4g\",\n",
        "    \"https://www.goal.com/en-us/thai-league-1/table/iu1vi94p4p28oozl1h9bvplr\",\n",
        "    \"https://www.goal.com/en-us/thai-league-2/table/bt24epydr1s8zc2x5xb0n9noc\",\n",
        "    \"https://www.goal.com/en-us/1-lig/table/2o9svokc5s7diish3ycrzk7jm\",\n",
        "    \"https://www.goal.com/en-us/s%C3%BCper-lig/table/482ofyysbdbeoxauk19yg7tdt\",\n",
        "    \"https://www.goal.com/en-us/pro-league/table/f39uq10c8xhg5e6rwwcf6lhgc\",\n",
        "    \"https://www.goal.com/en-us/mls/table/287tckirbfj9nb8ar2k9r60vn\",\n",
        "    \"https://www.goal.com/en-us/vleague-1/table/aho73e5udydy96iun3tkzdzsi\",\n",
        "    \"https://www.goal.com/en-us/premier-soccer-league/table/4azsryi40zahspm5h6d0f0pgl\"\n",
        "\n",
        "]\n",
        "print(len(urls))"
      ]
    },
    {
      "cell_type": "code",
      "execution_count": 44,
      "metadata": {
        "id": "mtcRJ29QdBLm"
      },
      "outputs": [],
      "source": [
        "def teams():\n",
        "    data = []\n",
        "    data_ = []\n",
        "    outcome = None\n",
        "    for url in urls:\n",
        "        response = requests.get(url)\n",
        "        soup = BeautifulSoup(response.content, \"lxml\")\n",
        "        table = soup.find(\"table\")\n",
        "        if table is not None:\n",
        "            rows = table.find_all(\"tr\")\n",
        "            for row in rows[1:]:\n",
        "                columns = row.find_all(\"td\")\n",
        "                name = row[\"data-team-name\"]\n",
        "                played = int(row.find(\"td\", {\"class\": \"widget-match-standings__matches-played\"}).text.strip())\n",
        "                won = int(row.find(\"td\", {\"class\": \"widget-match-standings__matches-won\"}).text.strip())\n",
        "                drawn = int(row.find(\"td\", {\"class\": \"widget-match-standings__matches-drawn\"}).text.strip())\n",
        "                lost = int(row.find(\"td\", {\"class\": \"widget-match-standings__matches-lost\"}).text.strip())\n",
        "                gf = int(row.find(\"td\", {\"class\": \"widget-match-standings__goals-for\"}).text.strip())\n",
        "                ga = int(row.find(\"td\", {\"class\": \"widget-match-standings__goals-against\"}).text.strip())\n",
        "                gd = int(row.find(\"td\", {\"class\": \"widget-match-standings__goals-diff\"}).text.strip())\n",
        "                points = int(row.find(\"td\", {\"class\": \"widget-match-standings__pts\"}).text.strip())\n",
        "                dd =row.find(\"td\", {\"class\": \"widget-match-standings__last-five\"}).text.strip()\n",
        "                _data = dd.strip().split('\\n')\n",
        "                row_list = []\n",
        "\n",
        "                row_list = [row.split() for row in _data][0]\n",
        "                # Converting the last five results into a win-draw-loss record\n",
        "                last_five_record = [0, 0, 0]  # Wins, Draws, Losses\n",
        "\n",
        "                last_five_record[0] = row_list.count(\"W\")\n",
        "                last_five_record[1] = row_list.count(\"D\")\n",
        "                last_five_record[2] = row_list.count(\"L\")\n",
        "\n",
        "                team_form = last_five_record[0] - (last_five_record[1] * last_five_record[2])\n",
        "                if played > 5:\n",
        "                    win_rate = won / played\n",
        "                    loss_rate = lost / played\n",
        "                    draw_rate = drawn / played\n",
        "                    performance_trend = (last_five_record[0] - last_five_record[2]) / 5\n",
        "\n",
        "                    data_.append([name, played, won, drawn, lost, gf, ga, gd, points,\n",
        "                                last_five_record[0], last_five_record[1],\n",
        "                                last_five_record[2], team_form, win_rate, loss_rate, draw_rate, performance_trend])\n",
        "\n",
        "                    if loss_rate <= 0.45 or win_rate >= 0.65:\n",
        "                        outcome = 1\n",
        "                    elif loss_rate >= 0.6 or win_rate <= 0.35:\n",
        "                        outcome = 0\n",
        "                    elif draw_rate < 0.35:\n",
        "                        outcome = 2\n",
        "\n",
        "                    data.append(data_[-1] + [outcome])\n",
        "\n",
        "\n",
        "    return data\n"
      ]
    },
    {
      "cell_type": "code",
      "execution_count": 45,
      "metadata": {
        "colab": {
          "base_uri": "https://localhost:8080/"
        },
        "id": "ZJ6g3Jwc8kMr",
        "outputId": "c3d16ed3-26ee-469e-cefe-98a2750526e2"
      },
      "outputs": [
        {
          "output_type": "stream",
          "name": "stdout",
          "text": [
            "468\n"
          ]
        }
      ],
      "source": [
        "data = teams()\n",
        "print(len(data))\n"
      ]
    },
    {
      "cell_type": "code",
      "execution_count": 46,
      "metadata": {
        "colab": {
          "base_uri": "https://localhost:8080/"
        },
        "id": "qhxlSKxsHvOX",
        "outputId": "9cf3798b-b2f0-450b-84c3-0cf7a24c1f10"
      },
      "outputs": [
        {
          "output_type": "stream",
          "name": "stdout",
          "text": [
            "468\n"
          ]
        }
      ],
      "source": [
        "dff = pd.DataFrame(data, columns=[\"Team\", \"Played\", \"Won\", \"Drawn\", \"Lost\",\n",
        "                                  \"GF\", \"GA\", \"GD\", \"Points\", \"Last_5_W\",\n",
        "                                  \"Last_5_D\", \"Last_5_L\", \"Team_Form\",\n",
        "                                  \"Win_rate\", \"Loss_rate\", \"Draw_rate\",\n",
        "                                  \"Performance_trend\",\"Outcome\"])\n",
        "print(len(dff))"
      ]
    },
    {
      "cell_type": "code",
      "execution_count": 47,
      "metadata": {
        "id": "Tn9Jg0aP_pIB",
        "colab": {
          "base_uri": "https://localhost:8080/"
        },
        "outputId": "d5829652-dbbf-495f-f761-6ea790b5edd7"
      },
      "outputs": [
        {
          "output_type": "stream",
          "name": "stdout",
          "text": [
            "337\n"
          ]
        }
      ],
      "source": [
        "try:\n",
        "    df = dff.query('Team_Form >= 2 or Team_Form <= -1')\n",
        "except:\n",
        "    pass\n",
        "\n",
        "# Encoding the labels\n",
        "le = LabelEncoder()\n",
        "le.fit(df[\"Team\"])\n",
        "\n",
        "# Splitting the data into training and testing sets\n",
        "X = df.drop(columns=[\"Outcome\"])\n",
        "y = df[\"Outcome\"]\n",
        "X_train, X_test, y_train, y_test = train_test_split(X, y, test_size=0.2, random_state=42)\n",
        "\n",
        "# Transforming the labels\n",
        "X_train[\"Team\"] = le.transform(X_train[\"Team\"])\n",
        "X_test[\"Team\"] = le.transform(X_test[\"Team\"])\n",
        "\n",
        "\n",
        "print(len(df))"
      ]
    },
    {
      "cell_type": "code",
      "execution_count": 48,
      "metadata": {
        "colab": {
          "base_uri": "https://localhost:8080/"
        },
        "id": "fjXznh3AHm0X",
        "outputId": "d9397afa-7918-4251-b09b-fe2255f0deaa"
      },
      "outputs": [
        {
          "output_type": "stream",
          "name": "stdout",
          "text": [
            "Accuracy: 1.0\n",
            "Precision: 1.0\n",
            "Recall: 1.0\n",
            "F1-score: 1.0\n"
          ]
        }
      ],
      "source": [
        "rf_model = RandomForestClassifier(n_estimators=100, random_state=42)\n",
        "rf_model.fit(X_train, y_train)\n",
        "\n",
        "# Evaluating the model on the testing data\n",
        "y_pred = rf_model.predict(X_test)\n",
        "\n",
        "accuracy = accuracy_score(y_test, y_pred)\n",
        "precision = precision_score(y_test, y_pred, average='weighted')\n",
        "recall = recall_score(y_test, y_pred, average='weighted')\n",
        "f1 = f1_score(y_test, y_pred, average='weighted')\n",
        "print(f\"Accuracy: {accuracy}\")\n",
        "print(f\"Precision: {precision}\")\n",
        "print(f\"Recall: {recall}\")\n",
        "print(f\"F1-score: {f1}\")"
      ]
    },
    {
      "cell_type": "code",
      "execution_count": 49,
      "metadata": {
        "id": "FHrIeq4NCgZ6"
      },
      "outputs": [],
      "source": [
        "def prediction():\n",
        "    try:\n",
        "        # Getting predictions for all the data\n",
        "        all_data = pd.concat([X_train, X_test])\n",
        "        all_predictions = rf_model.predict(all_data)\n",
        "        all_outcome = pd.concat([y_train, y_test])\n",
        "\n",
        "        # Getting the team names and outcomes\n",
        "        team_names = le.inverse_transform(all_data[\"Team\"])\n",
        "        outcomes =  le.inverse_transform(all_outcome)\n",
        "        predictions = le.inverse_transform(all_predictions)\n",
        "\n",
        "        # Creating a dataframe with team names and their predicted outcomes\n",
        "        team_predictions = pd.DataFrame({\"Team\": team_names, \"Outcome\": outcomes, \"Prediction\": predictions})\n",
        "\n",
        "        # Printing the teams to be considered as favorites\n",
        "        for_team = team_predictions[le.transform(team_predictions[\"Prediction\"]) == 1][\"Team\"].values\n",
        "\n",
        "        # Printing the teams with poor form\n",
        "        against_team = team_predictions[le.transform(team_predictions[\"Prediction\"]) == 0][\"Team\"].values\n",
        "\n",
        "        # Printing the teams that can potentially win any match\n",
        "        any_win = team_predictions[le.transform(team_predictions[\"Prediction\"]) == 2][\"Team\"].values\n",
        "\n",
        "        return for_team, against_team, any_win\n",
        "\n",
        "    except Exception as e:\n",
        "        print(f\"Error: {e}\")\n",
        "        return None\n",
        "# In form team, Teams to bet against"
      ]
    },
    {
      "cell_type": "code",
      "execution_count": 50,
      "metadata": {
        "id": "zWETrZn0gpOM",
        "colab": {
          "base_uri": "https://localhost:8080/"
        },
        "outputId": "d402eb3f-7ab6-4869-dcb7-361fd2225e0b"
      },
      "outputs": [
        {
          "output_type": "stream",
          "name": "stdout",
          "text": [
            "['Montréal' 'Ihefu' 'Montedio Yamagata' 'Dodoma Jiji']\n"
          ]
        }
      ],
      "source": [
        "for_team, against_team, any_win = prediction()\n",
        "print(any_win)"
      ]
    },
    {
      "cell_type": "code",
      "execution_count": 152,
      "metadata": {
        "id": "J6L5k4UNMECy"
      },
      "outputs": [],
      "source": [
        "import requests\n",
        "from bs4 import BeautifulSoup\n",
        "from datetime import datetime, timedelta\n",
        "\n",
        "start_date = datetime.today() + timedelta(days=1)\n",
        "end_date = start_date + timedelta(days=2)\n",
        "delta = timedelta(days=1)\n",
        "match_fix = []\n",
        "\n",
        "\n",
        "while start_date <= end_date:\n",
        "    date_str = start_date.strftime('%d-%B-%Y')\n",
        "    url = f'https://www.skysports.com/football/fixtures-results/{date_str}'\n",
        "    response = requests.get(url)\n",
        "    soup = BeautifulSoup(response.content, 'html.parser')\n",
        "    fixtures = soup.find_all('div', class_='fixres__item')\n",
        "    for fixture in fixtures:\n",
        "        league = fixture.find_previous_sibling('h5').text.strip()\n",
        "        team_1 = fixture.find('span', class_='swap-text__target').text.strip()\n",
        "        team_2 = fixture.find_all('span', class_='swap-text__target')[1].text.strip()\n",
        "        time = fixture.find('span', class_='matches__date').text.strip()\n",
        "        match_fix.append(f'{team_1} vs {team_2}')\n",
        "\n",
        "    start_date += delta\n",
        "\n"
      ]
    },
    {
      "cell_type": "code",
      "execution_count": 153,
      "metadata": {
        "colab": {
          "base_uri": "https://localhost:8080/"
        },
        "id": "Z5wB3W7_MxCI",
        "outputId": "d4133e31-d13b-4789-8688-3dd71471ddb1"
      },
      "outputs": [
        {
          "output_type": "stream",
          "name": "stdout",
          "text": [
            "85\n"
          ]
        }
      ],
      "source": [
        "print(len(match_fix))"
      ]
    },
    {
      "cell_type": "code",
      "execution_count": 154,
      "metadata": {
        "id": "JClSjEYH0Sj7"
      },
      "outputs": [],
      "source": [
        "\n",
        "# Getting the fixtures of the already predicted teams\n",
        "\n",
        "import numpy as np\n",
        "\n",
        "def get_fixtures(match_fix):\n",
        "    for_team, against_team, any_win = prediction()\n",
        "\n",
        "    match_fix = np.array(match_fix)\n",
        "    selection_set = np.array([line.strip() for line in for_team])\n",
        "    compiled_for = np.array([item for item in match_fix if np.any(np.isin(item.split(' vs '), selection_set))] )\n",
        "\n",
        "    selection_set_against = np.array([line.strip() for line in against_team])\n",
        "    compiled_against = np.array([item for item in match_fix if np.any(np.isin(item.split(' vs '), selection_set_against))])\n",
        "\n",
        "    selection_set_any = np.array([line.strip() for line in any_win])\n",
        "    compiled_any = np.array([item for item in match_fix if np.any(np.isin(item.split(' vs '), selection_set_any))])\n",
        "\n",
        "    return compiled_for, compiled_against, compiled_any\n",
        "\n",
        "    \"\"\"except Exception as e:\n",
        "        print(f\"Error: {e}\")\n",
        "        return None \"\"\"\n"
      ]
    },
    {
      "cell_type": "code",
      "execution_count": 155,
      "metadata": {
        "colab": {
          "base_uri": "https://localhost:8080/"
        },
        "id": "152kjqHh1OJK",
        "outputId": "a3a33739-17f3-468f-bb17-586d9167cba5"
      },
      "outputs": [
        {
          "output_type": "stream",
          "name": "stdout",
          "text": [
            "['AC Milan vs Trento' 'Shanghai Shenhua vs Shenzen'\n",
            " 'Sabah vs Partizan Belgrade' 'Rosenborg vs Hearts' 'Arouca vs Brann']\n",
            "[]\n",
            "[]\n"
          ]
        }
      ],
      "source": [
        "compiled_for, compiled_against, compiled_any = get_fixtures(match_fix)\n",
        "print(compiled_for)\n",
        "print(compiled_against)\n",
        "print(compiled_any)"
      ]
    },
    {
      "cell_type": "code",
      "execution_count": 131,
      "metadata": {
        "colab": {
          "base_uri": "https://localhost:8080/"
        },
        "id": "xgxXwjyfSe0V",
        "outputId": "dbe7e8bb-82fc-4814-c2de-a2455ed1683c"
      },
      "outputs": [
        {
          "output_type": "stream",
          "name": "stdout",
          "text": [
            "[['Hangzhou Greentown', 'Nantong Zhiyun'], ['Molde', 'KI Klaksvík'], ['AC Milan', 'Trento'], ['Shandong Luneng', 'Chengdu Rongcheng'], ['Arouca', 'Brann'], ['Everton', 'Fulham'], ['Nantong Zhiyun', 'Beijing Guoan'], ['Wuhan Three Towns', 'Shanghai Shenhua'], ['Lillestrom', 'Viking'], ['Sabah', 'Partizan Belgrade'], ['Torino', 'FeralpiSalò'], ['AC Milan', 'Novara'], ['KI Klaksvík', 'Molde'], ['Rosenborg', 'Hearts'], ['Shanghai Shenhua', 'Shenzen'], ['Sandefjord', 'Molde'], ['Changchun Yatai', 'Chengdu Rongcheng']]\n",
            "[['Meizhou Hakka', 'Qingdao Jonoon'], ['Meizhou Hakka', 'Changchun Yatai'], ['Arsenal', 'Nottingham Forest']]\n",
            "[]\n"
          ]
        }
      ],
      "source": [
        "compiled_for = {match for match in compiled_for if 'Ladies' not in match and 'Women' not in match}\n",
        "compiled_against = {match for match in compiled_against if 'Ladies' not in match and 'Women' not in match}\n",
        "compiled_any = {match for match in compiled_any if 'Ladies' not in match and 'Women' not in match}\n",
        "\n",
        "compiled_for = [[s.strip() for s in item.split('vs')] for item in compiled_for]\n",
        "compiled_against = [[s.strip() for s in item.split('vs')] for item in compiled_against]\n",
        "compiled_any = [[s.strip() for s in item.split('vs')] for item in compiled_any]\n",
        "\n",
        "print(compiled_for)\n",
        "print(compiled_against)\n",
        "print(compiled_any)\n",
        "# weekly Prediction"
      ]
    },
    {
      "cell_type": "code",
      "execution_count": 56,
      "metadata": {
        "colab": {
          "base_uri": "https://localhost:8080/"
        },
        "id": "GfZ8M35Wg5In",
        "outputId": "47a10a15-ae84-4e93-dbcf-41f5d83cab66"
      },
      "outputs": [
        {
          "output_type": "stream",
          "name": "stdout",
          "text": [
            "0      44\n",
            "1      39\n",
            "2      21\n",
            "3      34\n",
            "4      36\n",
            "       ..\n",
            "463    12\n",
            "464     9\n",
            "465    12\n",
            "466    10\n",
            "467     9\n",
            "Name: GF, Length: 468, dtype: int64\n"
          ]
        }
      ],
      "source": [
        "print(dff['GF'])"
      ]
    },
    {
      "cell_type": "code",
      "execution_count": 132,
      "metadata": {
        "id": "3h5VtrWvgrWy"
      },
      "outputs": [],
      "source": [
        "def high_gf_ga():\n",
        "    high_scoring_teams = []\n",
        "    high_conceding_team = []\n",
        "\n",
        "    dff['Average_GF_per_Match'] = dff['GF'] / dff['Played']\n",
        "    dff['Average_GA_per_Match'] = dff['GA'] / dff['Played']\n",
        "    mean_avg_goal_per_match = dff['Average_GF_per_Match'].mean()\n",
        "    std_deviation_avg_goal_per_match = dff['Average_GF_per_Match'].std()\n",
        "\n",
        "    mean_avg_goal_against_per_match = dff['Average_GA_per_Match'].mean()\n",
        "    std_deviation_avg_goal_against_per_match = dff['Average_GA_per_Match'].std()\n",
        "\n",
        "    threshold_high_goal_scoring = mean_avg_goal_per_match + std_deviation_avg_goal_per_match\n",
        "    threshold_high_goal_conceding = mean_avg_goal_against_per_match + std_deviation_avg_goal_against_per_match\n",
        "\n",
        "    high_scoring_teams = dff[dff['Average_GF_per_Match'] > threshold_high_goal_scoring]['Team'].tolist()\n",
        "    high_conceding_teams = dff[dff['Average_GA_per_Match'] > threshold_high_goal_conceding]['Team'].tolist()\n",
        "\n",
        "    return high_scoring_teams, high_conceding_teams, threshold_high_goal_scoring\n",
        "\n",
        "# High Scoring Teams / High conceding"
      ]
    },
    {
      "cell_type": "code",
      "execution_count": 133,
      "metadata": {
        "colab": {
          "base_uri": "https://localhost:8080/"
        },
        "id": "tvGhB-AtiS4A",
        "outputId": "6b487cd7-6aff-46a2-f133-408ae3fd31db"
      },
      "outputs": [
        {
          "output_type": "stream",
          "name": "stdout",
          "text": [
            "['River Plate', 'Melbourne City', 'Central Coast Mariners', 'Adelaide United', 'Botafogo', 'Palmeiras', 'Cobresal', 'Deportes Antofagasta', 'Shanghai Port', 'Shandong Taishan', 'Beijing Guoan', 'Al Ahly', 'Southampton U21', 'Leeds United U21', 'Nottingham Forest U21', 'West Bromwich Albion U21', 'Aston Villa U21', 'Norwich City U21', 'Middlesbrough U21', 'Newcastle United U21', 'Sunderland U21', 'Kitchee', 'Lee Man', 'BC Rangers', 'Eastern', 'Mumbai City', 'Hyderabad', 'Goa', 'Chennaiyin', 'Punjab FC', 'Sreenidi Deccan', 'Sriwijaya', 'Borneo', 'Madura United', 'Barito Putera', 'Júbilo Iwata', 'Shimizu S-Pulse', 'Vissel Kobe', 'Yokohama F. Marinos', 'Consadole Sapporo', \"Johor Darul Ta'zim\", 'Selangor', 'Kedah', 'Sabah', 'Kuala Lumpur City', 'Bodø / Glimt', 'Viking', 'Molde', 'Lillestrøm', 'Libertad', 'Cerro Porteño', 'Alianza Lima', 'Sporting Cristal', 'Deportivo Garcilaso', 'Alianza Atlético', 'Al Hilal Omdurman', 'Elfsborg', 'Malmö FF', 'Häcken', 'Young Africans', 'Simba', 'Azam', 'New England', 'Columbus Crew', 'Atlanta United', 'St. Louis City', 'Công An Hà Nội']\n",
            "['HB Chelghoum Laïd', 'Adelaide United', 'Wellington Phoenix', 'Western United', 'Perth Glory', 'Newcastle Jets', 'Macarthur', 'Coritiba', 'América Mineiro', 'Meizhou Hakka', 'Shenzhen', 'Águilas Doradas', 'West Bromwich Albion U21', 'Aston Villa U21', 'Norwich City U21', 'Middlesbrough U21', 'Newcastle United U21', 'Sunderland U21', 'Stoke City U21', 'Derby County U21', 'Resources Capital', 'Sham Shui Po', 'HK U23', 'Goa', 'Chennaiyin', 'East Bengal', 'NorthEast United', 'Kenkre', 'Sudeva', 'Persela', 'Gresik United', 'Persikabo 1973', 'Persik Kediri', 'Persib', 'Persis Solo', 'Bhayangkara', 'Arema', 'Fujieda MYFC', 'Gamba Osaka', 'Consadole Sapporo', 'Yokohama', 'Shonan Bellmare', 'Negeri Sembilan', 'Perak', 'Kelantan United', 'Kuching FA', 'Kelantan', 'Sarpsborg 08', 'Sandefjord', 'HamKam', 'Vålerenga', 'Aalesund', 'Alianza Atlético', 'Unión Comercio', 'Deportivo Binacional', 'Academia Cantolao', 'Degerfors', 'Varberg', 'Polisi Tanzania', 'Charlotte']\n"
          ]
        }
      ],
      "source": [
        "high_scoring_teams, high, threshold_high_goal_scoring= high_gf_ga()\n",
        "print(high_scoring_teams)\n",
        "print(high)\n"
      ]
    },
    {
      "cell_type": "code",
      "source": [
        "compiled = compiled_for + compiled_against + compiled_any\n",
        "print (threshold_high_goal_scoring)"
      ],
      "metadata": {
        "colab": {
          "base_uri": "https://localhost:8080/"
        },
        "id": "xfsH2Kv5JGnU",
        "outputId": "0cbf5925-f76e-41a4-9419-48ea2bd55886"
      },
      "execution_count": 134,
      "outputs": [
        {
          "output_type": "stream",
          "name": "stdout",
          "text": [
            "1.7380453710297528\n"
          ]
        }
      ]
    },
    {
      "cell_type": "code",
      "execution_count": 151,
      "metadata": {
        "id": "cstv6iUvAnUH",
        "colab": {
          "base_uri": "https://localhost:8080/"
        },
        "outputId": "a1f1b22a-e14b-4092-a71c-48dab9a6df4e"
      },
      "outputs": [
        {
          "output_type": "stream",
          "name": "stdout",
          "text": [
            "1.7380453710297528\n",
            "1.7380453710297528\n",
            "1.7380453710297528\n",
            "1.7380453710297528\n",
            "1.7380453710297528\n",
            "['Nantong Zhiyun vs Beijing Guoan: Both Teams to Score', 'Wuhan Three Towns vs Shanghai Shenhua: Both Teams to Score', 'Sandefjord vs Molde: Both Teams to Score', 'Changchun Yatai vs Chengdu Rongcheng: Both Teams to Score', 'Meizhou Hakka vs Changchun Yatai: Both Teams to Score']\n"
          ]
        }
      ],
      "source": [
        "\n",
        "def predict_both_teams_score(compiled, threshold_high_goal_scoring):\n",
        "    predictions = []\n",
        "    for fixture in compiled:\n",
        "        team_1, team_2 = fixture[0], fixture[1]\n",
        "        try:\n",
        "            team_1_gf = dff[dff['Team'] == team_1]['GF'].values[0] +\\\n",
        "             dff[dff['Team'] == team_1]['GA'].values[0]\n",
        "            team_2_gf = dff[dff['Team'] == team_2]['GF'].values[0] +\\\n",
        "             dff[dff['Team'] == team_2]['GA'].values[0]\n",
        "\n",
        "            if team_1_gf >= threshold_high_goal_scoring and team_2_gf >= threshold_high_goal_scoring:\n",
        "                predictions.append(f'{team_1} vs {team_2}: Both Teams to Score')\n",
        "            else:\n",
        "                predictions.append(f'{team_1} vs {team_2}: Both Teams Not to Score')\n",
        "\n",
        "        except IndexError:\n",
        "           # print(f\"Team data not found for {team_1} or {team_2}. Skipping...\")\n",
        "            pass\n",
        "    return predictions\n",
        "\n",
        "predictions = predict_both_teams_score(compiled, threshold_high_goal_scoring)\n",
        "print(predictions)\n"
      ]
    }
  ],
  "metadata": {
    "colab": {
      "provenance": [],
      "authorship_tag": "ABX9TyNs0B6r2QYjL6kZF+NzvxIo",
      "include_colab_link": true
    },
    "kernelspec": {
      "display_name": "Python 3",
      "name": "python3"
    },
    "language_info": {
      "name": "python"
    }
  },
  "nbformat": 4,
  "nbformat_minor": 0
}